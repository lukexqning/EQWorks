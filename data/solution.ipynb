{
 "cells": [
  {
   "cell_type": "code",
   "execution_count": 1,
   "id": "satisfactory-association",
   "metadata": {},
   "outputs": [],
   "source": [
    "import pandas as pd"
   ]
  },
  {
   "cell_type": "code",
   "execution_count": 2,
   "id": "suffering-driving",
   "metadata": {},
   "outputs": [
    {
     "name": "stdout",
     "output_type": "stream",
     "text": [
      "Original length: 22025\n",
      "Deduped length: 19999\n"
     ]
    }
   ],
   "source": [
    "data_df = pd.read_csv(\"DataSample.csv\")\n",
    "data_df.rename(columns=lambda x: x.strip(), inplace=True)\n",
    "print(f'Original length: {len(data_df)}')\n",
    "\n",
    "## Part 1\n",
    "\n",
    "data_df.drop_duplicates([\"TimeSt\", \"Latitude\", \"Longitude\"], keep=\"last\", inplace=True)\n",
    "\n",
    "print(f'Deduped length: {len(data_df)}')"
   ]
  },
  {
   "cell_type": "code",
   "execution_count": 3,
   "id": "modular-table",
   "metadata": {},
   "outputs": [
    {
     "data": {
      "text/html": [
       "<div>\n",
       "<style>\n",
       "    .dataframe thead tr:only-child th {\n",
       "        text-align: right;\n",
       "    }\n",
       "\n",
       "    .dataframe thead th {\n",
       "        text-align: left;\n",
       "    }\n",
       "\n",
       "    .dataframe tbody tr th {\n",
       "        vertical-align: top;\n",
       "    }\n",
       "</style>\n",
       "<table border=\"1\" class=\"dataframe\">\n",
       "  <thead>\n",
       "    <tr>\n",
       "      <th></th>\n",
       "      <th>_ID</th>\n",
       "      <th>TimeSt</th>\n",
       "      <th>Country</th>\n",
       "      <th>Province</th>\n",
       "      <th>City</th>\n",
       "      <th>Latitude</th>\n",
       "      <th>Longitude</th>\n",
       "    </tr>\n",
       "    <tr>\n",
       "      <th></th>\n",
       "      <th>count</th>\n",
       "      <th>count</th>\n",
       "      <th>count</th>\n",
       "      <th>count</th>\n",
       "      <th>count</th>\n",
       "      <th>count</th>\n",
       "      <th>count</th>\n",
       "    </tr>\n",
       "    <tr>\n",
       "      <th>ClosestPOI</th>\n",
       "      <th></th>\n",
       "      <th></th>\n",
       "      <th></th>\n",
       "      <th></th>\n",
       "      <th></th>\n",
       "      <th></th>\n",
       "      <th></th>\n",
       "    </tr>\n",
       "  </thead>\n",
       "  <tbody>\n",
       "    <tr>\n",
       "      <th>['POI1', 'POI2']</th>\n",
       "      <td>9698</td>\n",
       "      <td>9698</td>\n",
       "      <td>9698</td>\n",
       "      <td>9698</td>\n",
       "      <td>9698</td>\n",
       "      <td>9698</td>\n",
       "      <td>9698</td>\n",
       "    </tr>\n",
       "    <tr>\n",
       "      <th>['POI3']</th>\n",
       "      <td>9817</td>\n",
       "      <td>9817</td>\n",
       "      <td>9817</td>\n",
       "      <td>9817</td>\n",
       "      <td>9817</td>\n",
       "      <td>9817</td>\n",
       "      <td>9817</td>\n",
       "    </tr>\n",
       "    <tr>\n",
       "      <th>['POI4']</th>\n",
       "      <td>484</td>\n",
       "      <td>484</td>\n",
       "      <td>484</td>\n",
       "      <td>484</td>\n",
       "      <td>484</td>\n",
       "      <td>484</td>\n",
       "      <td>484</td>\n",
       "    </tr>\n",
       "  </tbody>\n",
       "</table>\n",
       "</div>"
      ],
      "text/plain": [
       "                   _ID TimeSt Country Province  City Latitude Longitude\n",
       "                 count  count   count    count count    count     count\n",
       "ClosestPOI                                                             \n",
       "['POI1', 'POI2']  9698   9698    9698     9698  9698     9698      9698\n",
       "['POI3']          9817   9817    9817     9817  9817     9817      9817\n",
       "['POI4']           484    484     484      484   484      484       484"
      ]
     },
     "execution_count": 3,
     "metadata": {},
     "output_type": "execute_result"
    }
   ],
   "source": [
    "## Part 2\n",
    "\n",
    "poi_df = pd.read_csv(\"POIList.csv\")\n",
    "poi_df.rename(columns=lambda x: x.strip(), inplace=True)\n",
    "poi_map = {}\n",
    "\n",
    "for _, row in poi_df.iterrows():\n",
    "    poi_lst = poi_map.get((row[\"Latitude\"], row[\"Longitude\"]))\n",
    "    poi_map[(row[\"Latitude\"], row[\"Longitude\"])] = (poi_lst or []) + [row[\"POIID\"]]\n",
    "    \n",
    "def calc_dist(p1, p2):\n",
    "    return ((p1[0] - p2[0])**2 + (p1[1] - p2[1])**2)**0.5\n",
    "    \n",
    "def closest_poi(row, mapping):\n",
    "    distances = {k: calc_dist([row[\"Latitude\"], row[\"Longitude\"]], k) for k in mapping.keys()}\n",
    "    place = min(distances, key=distances.get)\n",
    "    return mapping[place]\n",
    "\n",
    "data_df['ClosestPOI'] = data_df.apply(lambda row: closest_poi(row, poi_map), axis=1).astype(str)\n",
    "\n",
    "data_df.groupby(['ClosestPOI']).agg(['count'])"
   ]
  },
  {
   "cell_type": "code",
   "execution_count": 4,
   "id": "commercial-wagon",
   "metadata": {
    "scrolled": true
   },
   "outputs": [],
   "source": [
    "## Part 3\n",
    "\n",
    "def poi_dist(row, mapping):\n",
    "    return min([calc_dist([row[\"Latitude\"], row[\"Longitude\"]], k) for k in mapping.keys()])\n",
    "\n",
    "data_df['ClosestDist'] = data_df.apply(lambda row: poi_dist(row, poi_map), axis=1)"
   ]
  },
  {
   "cell_type": "code",
   "execution_count": 5,
   "id": "immune-management",
   "metadata": {},
   "outputs": [
    {
     "data": {
      "text/html": [
       "<div>\n",
       "<style>\n",
       "    .dataframe thead tr:only-child th {\n",
       "        text-align: right;\n",
       "    }\n",
       "\n",
       "    .dataframe thead th {\n",
       "        text-align: left;\n",
       "    }\n",
       "\n",
       "    .dataframe tbody tr th {\n",
       "        vertical-align: top;\n",
       "    }\n",
       "</style>\n",
       "<table border=\"1\" class=\"dataframe\">\n",
       "  <thead>\n",
       "    <tr>\n",
       "      <th></th>\n",
       "      <th colspan=\"2\" halign=\"left\">ClosestDist</th>\n",
       "    </tr>\n",
       "    <tr>\n",
       "      <th></th>\n",
       "      <th>mean</th>\n",
       "      <th>std</th>\n",
       "    </tr>\n",
       "    <tr>\n",
       "      <th>ClosestPOI</th>\n",
       "      <th></th>\n",
       "      <th></th>\n",
       "    </tr>\n",
       "  </thead>\n",
       "  <tbody>\n",
       "    <tr>\n",
       "      <th>['POI1', 'POI2']</th>\n",
       "      <td>3.348183</td>\n",
       "      <td>3.85849</td>\n",
       "    </tr>\n",
       "    <tr>\n",
       "      <th>['POI3']</th>\n",
       "      <td>5.537951</td>\n",
       "      <td>2.85869</td>\n",
       "    </tr>\n",
       "    <tr>\n",
       "      <th>['POI4']</th>\n",
       "      <td>8.810411</td>\n",
       "      <td>28.67513</td>\n",
       "    </tr>\n",
       "  </tbody>\n",
       "</table>\n",
       "</div>"
      ],
      "text/plain": [
       "                 ClosestDist          \n",
       "                        mean       std\n",
       "ClosestPOI                            \n",
       "['POI1', 'POI2']    3.348183   3.85849\n",
       "['POI3']            5.537951   2.85869\n",
       "['POI4']            8.810411  28.67513"
      ]
     },
     "execution_count": 5,
     "metadata": {},
     "output_type": "execute_result"
    }
   ],
   "source": [
    "# 1)\n",
    "\n",
    "summary = data_df[['ClosestPOI', 'ClosestDist']].groupby(['ClosestPOI']).agg(['mean', 'std'])\n",
    "summary"
   ]
  },
  {
   "cell_type": "code",
   "execution_count": 6,
   "id": "damaged-curve",
   "metadata": {},
   "outputs": [
    {
     "data": {
      "text/html": [
       "<div>\n",
       "<style>\n",
       "    .dataframe thead tr:only-child th {\n",
       "        text-align: right;\n",
       "    }\n",
       "\n",
       "    .dataframe thead th {\n",
       "        text-align: left;\n",
       "    }\n",
       "\n",
       "    .dataframe tbody tr th {\n",
       "        vertical-align: top;\n",
       "    }\n",
       "</style>\n",
       "<table border=\"1\" class=\"dataframe\">\n",
       "  <thead>\n",
       "    <tr style=\"text-align: right;\">\n",
       "      <th></th>\n",
       "      <th>radius</th>\n",
       "      <th>density</th>\n",
       "    </tr>\n",
       "    <tr>\n",
       "      <th>ClosestPOI</th>\n",
       "      <th></th>\n",
       "      <th></th>\n",
       "    </tr>\n",
       "  </thead>\n",
       "  <tbody>\n",
       "    <tr>\n",
       "      <th>['POI1', 'POI2']</th>\n",
       "      <td>24.851937</td>\n",
       "      <td>4.998179</td>\n",
       "    </tr>\n",
       "    <tr>\n",
       "      <th>['POI3']</th>\n",
       "      <td>20.155378</td>\n",
       "      <td>7.692137</td>\n",
       "    </tr>\n",
       "    <tr>\n",
       "      <th>['POI4']</th>\n",
       "      <td>192.704991</td>\n",
       "      <td>0.004149</td>\n",
       "    </tr>\n",
       "  </tbody>\n",
       "</table>\n",
       "</div>"
      ],
      "text/plain": [
       "                      radius   density\n",
       "ClosestPOI                            \n",
       "['POI1', 'POI2']   24.851937  4.998179\n",
       "['POI3']           20.155378  7.692137\n",
       "['POI4']          192.704991  0.004149"
      ]
     },
     "execution_count": 6,
     "metadata": {},
     "output_type": "execute_result"
    }
   ],
   "source": [
    "# 2)\n",
    "\n",
    "def poi_area(row):\n",
    "    PI = 3.141592653589793\n",
    "    tot = row['count']\n",
    "    area = PI*(row['max']**2)\n",
    "    return tot/area\n",
    "\n",
    "poi_range = data_df[['ClosestPOI', 'ClosestDist']].groupby(['ClosestPOI']).agg(['max', 'count'])\n",
    "poi_range.columns = poi_range.columns.droplevel()\n",
    "poi_range['density'] = poi_range.apply(lambda row: poi_area(row), axis=1)\n",
    "poi_range.drop(['count'], axis=1, inplace=True)\n",
    "poi_range.rename(columns={'max': 'radius'}, inplace=True)\n",
    "\n",
    "poi_range"
   ]
  },
  {
   "cell_type": "code",
   "execution_count": 7,
   "id": "optional-isaac",
   "metadata": {
    "scrolled": true
   },
   "outputs": [
    {
     "data": {
      "text/plain": [
       "['112', '100', '73', '21', '20', '94', '56', '97', '102', '36']"
      ]
     },
     "execution_count": 7,
     "metadata": {},
     "output_type": "execute_result"
    }
   ],
   "source": [
    "## Part 4 b)\n",
    "\n",
    "# Implementation\n",
    "## shortest_path(starts, goal, order) produces the least amount of \n",
    "##     tasks required to accomplish goal from start, using the\n",
    "##     dependencies found in order. If a path doesn't exist, False \n",
    "##     is returned\n",
    "## shortest_path: (setof Str) Str (dictof Str (listof Str)) -> (anyof (listof Str) False)\n",
    "def shortest_path(starts, goal, graph):\n",
    "    finished = set()\n",
    "    f_queue = []\n",
    "    for start in starts:\n",
    "        f_queue += list(graph.get(start) or set())\n",
    "        graph[start] = set()\n",
    "    while f_queue:\n",
    "        v = f_queue.pop()\n",
    "        finished.update({v})\n",
    "        f_queue += list(graph.get(v) or set())\n",
    "    path = [goal]\n",
    "    queue = [goal]\n",
    "    while queue:\n",
    "        v = queue.pop()\n",
    "        for task in (graph.get(v) or set()) - set(path):\n",
    "            if task in finished: continue\n",
    "            path = [task] + path\n",
    "            queue.append(task)\n",
    "    return path\n",
    "\n",
    "# Data Cleaning\n",
    "starts = set()\n",
    "goal = ''\n",
    "\n",
    "question = open(\"question.txt\", \"r\")\n",
    "starts = question.readline().strip().split(':')[1]\n",
    "starts = {x.strip() for x in starts.split(',')}\n",
    "\n",
    "goal = question.readline().strip().split(':')[1].strip()\n",
    "\n",
    "graph = {}\n",
    "\n",
    "relations = open(\"relations.txt\", \"r\")\n",
    "for line in relations:\n",
    "    vals = line.strip().split('->')\n",
    "    graph[vals[1]] = (graph.get(vals[1]) or set()).union({vals[0]})\n",
    "    \n",
    "# Example Result    \n",
    "shortest_path(starts, goal, graph)"
   ]
  },
  {
   "cell_type": "code",
   "execution_count": 8,
   "id": "assured-haven",
   "metadata": {},
   "outputs": [
    {
     "name": "stdout",
     "output_type": "stream",
     "text": [
      "['A', 'B', 'C', 'E', 'F']\n",
      "['C', 'E', 'F']\n"
     ]
    }
   ],
   "source": [
    "# Test from repo\n",
    "graph = {\n",
    "    'C': {'A', 'B'},\n",
    "    'E': {'C'},\n",
    "    'F': {'E'}}\n",
    "\n",
    "print(list(shortest_path({'A'}, 'F', graph)))\n",
    "print(list(shortest_path({'A', 'C'}, 'F', graph)))"
   ]
  }
 ],
 "metadata": {
  "kernelspec": {
   "display_name": "Python 3",
   "language": "python",
   "name": "python3"
  },
  "language_info": {
   "codemirror_mode": {
    "name": "ipython",
    "version": 3
   },
   "file_extension": ".py",
   "mimetype": "text/x-python",
   "name": "python",
   "nbconvert_exporter": "python",
   "pygments_lexer": "ipython3",
   "version": "3.6.1"
  }
 },
 "nbformat": 4,
 "nbformat_minor": 5
}
